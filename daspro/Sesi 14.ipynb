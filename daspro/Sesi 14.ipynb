{
 "cells": [
  {
   "cell_type": "code",
   "execution_count": null,
   "id": "6ade3cef-141e-4247-9409-dba410438e17",
   "metadata": {},
   "outputs": [],
   "source": [
    "try:\n",
    "    angka1 = int(input(\"angka 1\"))\n",
    "    angka2 = int(input(\"angka 2\"))\n",
    "    hasil = angka1 / angka2\n",
    "    print(hasil)\n",
    "except ZeroDivisionError:\n",
    "    print(\"Tidak boleh dibagi dengan 0 \")\n",
    "except ValueError:\n",
    "    print(\"Input harus angka\")\n",
    "else:\n",
    "    print(hasil)\n",
    "finally:\n",
    "    print(\"Program Selesai\")"
   ]
  },
  {
   "cell_type": "code",
   "execution_count": null,
   "id": "6b8527b3-0862-441a-a686-31cee5f5b074",
   "metadata": {},
   "outputs": [],
   "source": [
    "try:\n",
    "    angka1 = int(input(\"angka 1\"))\n",
    "    angka2 = int(input(\"angka 2\"))\n",
    "    hasil = angka1 / angka2\n",
    "except (ZeroDivisionError, ValueError) as e:\n",
    "    print(f\"Terjadi kesalahan, {e}\")\n",
    "else:\n",
    "    print(hasil)\n",
    "finally:\n",
    "    print(\"Program Selesai\")"
   ]
  },
  {
   "cell_type": "code",
   "execution_count": null,
   "id": "3022832f-759f-411a-b9a1-905361a3c23c",
   "metadata": {},
   "outputs": [],
   "source": [
    "try:\n",
    "    dataNilai = [100,90,80,70,60,100,70]\n",
    "    tampilData = int(input(\"Isikan urutan indeks:\"))\n",
    "    print(dataNilai[tampilData])\n",
    "except IndexError as ie:\n",
    "    print(f\"Terjadia Kesalahan: {ie}\")"
   ]
  },
  {
   "cell_type": "code",
   "execution_count": 59,
   "id": "3e800505-3e17-4050-9b57-40f3f9f3b839",
   "metadata": {},
   "outputs": [
    {
     "name": "stdout",
     "output_type": "stream",
     "text": [
      "Terjadi kesalahan 'orangtua'\n"
     ]
    }
   ],
   "source": [
    "try:\n",
    "    dataMahasiswa = {\n",
    "        'nim': 20240040249,\n",
    "        'nama' : \"Ryan\",\n",
    "        'alamat' : \"Maluku\",\n",
    "        'kelas' : \"TI24I\",\n",
    "    }\n",
    "    print(dataMahasiswa[\"orangtua\"])\n",
    "except KeyError as ue:\n",
    "    print(f\"Terjadi kesalahan {ue}\")"
   ]
  },
  {
   "cell_type": "code",
   "execution_count": null,
   "id": "8a97b17c-79fe-414c-b0bd-1bead2f2d10b",
   "metadata": {},
   "outputs": [],
   "source": [
    "class nilaiNegatifError(Exception):\n",
    "    pass\n",
    "\n",
    "def cekNilai(x):\n",
    "    if(x<0):\n",
    "        raise nilaiNegatifError(\"Nilai Tidak Boleh Negatif\")\n",
    "\n",
    "try:\n",
    "    cekNilai(-17)\n",
    "except nilaiNegatifError as negatif:\n",
    "    print(f\"Terjadi Kesalahan {negatif}\")"
   ]
  },
  {
   "cell_type": "code",
   "execution_count": null,
   "id": "5d05f0ff-737b-4cf2-8af8-d1badffb0eaf",
   "metadata": {},
   "outputs": [],
   "source": [
    "#File Handling\n",
    "#variabel = open \n",
    "f = open(\"data.txt\",\"r\")\n",
    "konten = f.read()\n",
    "print(konten)\n",
    "f.close()"
   ]
  },
  {
   "cell_type": "code",
   "execution_count": null,
   "id": "0df09f8e-b01a-49fb-afac-c41be5d72135",
   "metadata": {},
   "outputs": [],
   "source": [
    "try:\n",
    "    with open(\"dataCustomer.csv\") as f:\n",
    "        print(f.read())\n",
    "except FileNotFoundError as fnf:\n",
    "    print(f\"Terjadi kesalahan: {fnf}\")\n",
    "else:\n",
    "    print(\"Data sudah selesai dibaca semuanya\")\n",
    "finally:\n",
    "    print(\"{Program Selesai\")"
   ]
  },
  {
   "cell_type": "code",
   "execution_count": 57,
   "id": "e6aafa32-8d7d-4d81-a142-ee2c3046ea2c",
   "metadata": {},
   "outputs": [
    {
     "ename": "SyntaxError",
     "evalue": "incomplete input (3760671423.py, line 1)",
     "output_type": "error",
     "traceback": [
      "\u001b[1;36m  Cell \u001b[1;32mIn[57], line 1\u001b[1;36m\u001b[0m\n\u001b[1;33m    try:\u001b[0m\n\u001b[1;37m        ^\u001b[0m\n\u001b[1;31mSyntaxError\u001b[0m\u001b[1;31m:\u001b[0m incomplete input\n"
     ]
    }
   ],
   "source": [
    "try:\n",
    "    with open(\"data.txt\""
   ]
  },
  {
   "cell_type": "code",
   "execution_count": null,
   "id": "4e1a3745-db4d-4d1f-aa00-18b3123067ba",
   "metadata": {},
   "outputs": [],
   "source": []
  }
 ],
 "metadata": {
  "kernelspec": {
   "display_name": "Python [conda env:base] *",
   "language": "python",
   "name": "conda-base-py"
  },
  "language_info": {
   "codemirror_mode": {
    "name": "ipython",
    "version": 3
   },
   "file_extension": ".py",
   "mimetype": "text/x-python",
   "name": "python",
   "nbconvert_exporter": "python",
   "pygments_lexer": "ipython3",
   "version": "3.12.7"
  }
 },
 "nbformat": 4,
 "nbformat_minor": 5
}
