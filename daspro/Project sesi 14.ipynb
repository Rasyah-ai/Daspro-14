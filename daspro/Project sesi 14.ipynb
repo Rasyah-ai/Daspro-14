{
 "cells": [
  {
   "cell_type": "code",
   "execution_count": 1,
   "id": "0f26aceb-339f-4d13-bec5-09931f60bb73",
   "metadata": {},
   "outputs": [
    {
     "name": "stdout",
     "output_type": "stream",
     "text": [
      "=== Menu Data Mahasiswa ===\n",
      "1. Tambah Data Mahasiswa\n",
      "2. Tampilkan Data Mahasiswa\n",
      "3. Keluar\n"
     ]
    },
    {
     "name": "stdin",
     "output_type": "stream",
     "text": [
      "Pilih menu (1/2/3):  1\n",
      "Masukkan NIM:  20240040249\n",
      "Masukkan Nama:  Ryan Boufakar\n",
      "Masukkan Alamat:  Jl. Batu gaja\n",
      "Masukkan Kelas (TI24H/TI24A/TI24G/TI24F):  TI24H\n"
     ]
    },
    {
     "name": "stdout",
     "output_type": "stream",
     "text": [
      "Data berhasil disimpan!\n",
      "\n",
      "Proses tambah data selesai.\n",
      "\n",
      "=== Menu Data Mahasiswa ===\n",
      "1. Tambah Data Mahasiswa\n",
      "2. Tampilkan Data Mahasiswa\n",
      "3. Keluar\n"
     ]
    },
    {
     "name": "stdin",
     "output_type": "stream",
     "text": [
      "Pilih menu (1/2/3):  1\n",
      "Masukkan NIM:  20240040250\n",
      "Masukkan Nama:  Rasyah Boufakar\n",
      "Masukkan Alamat:  Jl. Batu merah\n",
      "Masukkan Kelas (TI24H/TI24A/TI24G/TI24F):  TI24A\n"
     ]
    },
    {
     "name": "stdout",
     "output_type": "stream",
     "text": [
      "Data berhasil disimpan!\n",
      "\n",
      "Proses tambah data selesai.\n",
      "\n",
      "=== Menu Data Mahasiswa ===\n",
      "1. Tambah Data Mahasiswa\n",
      "2. Tampilkan Data Mahasiswa\n",
      "3. Keluar\n"
     ]
    },
    {
     "name": "stdin",
     "output_type": "stream",
     "text": [
      "Pilih menu (1/2/3):  1\n",
      "Masukkan NIM:  20240040251\n",
      "Masukkan Nama:  Mamat Boufakar\n",
      "Masukkan Alamat:  Jl. Patimura\n",
      "Masukkan Kelas (TI24H/TI24A/TI24G/TI24F):  TI24G\n"
     ]
    },
    {
     "name": "stdout",
     "output_type": "stream",
     "text": [
      "Data berhasil disimpan!\n",
      "\n",
      "Proses tambah data selesai.\n",
      "\n",
      "=== Menu Data Mahasiswa ===\n",
      "1. Tambah Data Mahasiswa\n",
      "2. Tampilkan Data Mahasiswa\n",
      "3. Keluar\n"
     ]
    },
    {
     "name": "stdin",
     "output_type": "stream",
     "text": [
      "Pilih menu (1/2/3):  2\n"
     ]
    },
    {
     "name": "stdout",
     "output_type": "stream",
     "text": [
      "\n",
      "Daftar Mahasiswa:\n",
      "NIM: 20240040249, Nama: Rasyah Boufakar, Alamat: Jl. Batu gaja, Kelas: TI24F\n",
      "NIM: 20240040249, Nama: Ryan Boufakar, Alamat: Jl. Batu gaja, Kelas: TI24H\n",
      "NIM: 20240040249, Nama: Ryan Boufakar, Alamat: Jl. Batu gaja, Kelas: TI24H\n",
      "NIM: 20240040250, Nama: Rasyah Boufakar, Alamat: Jl. Batu merah, Kelas: TI24A\n",
      "NIM: 20240040251, Nama: Mamat Boufakar, Alamat: Jl. Patimura, Kelas: TI24G\n",
      "Proses tampil data selesai.\n",
      "\n",
      "=== Menu Data Mahasiswa ===\n",
      "1. Tambah Data Mahasiswa\n",
      "2. Tampilkan Data Mahasiswa\n",
      "3. Keluar\n"
     ]
    },
    {
     "name": "stdin",
     "output_type": "stream",
     "text": [
      "Pilih menu (1/2/3):  3\n"
     ]
    },
    {
     "name": "stdout",
     "output_type": "stream",
     "text": [
      "Terima kasih. Program selesai.\n"
     ]
    }
   ],
   "source": [
    "### import csv\n",
    "\n",
    "class InputInvalidError(Exception):\n",
    "    pass\n",
    "\n",
    "def validasi_data(nim, nama, alamat, kelas):\n",
    "    if len(nim) != 11 or not nim.isdigit():\n",
    "        raise InputInvalidError(\"NIM harus 11 digit angka.\")\n",
    "    if len(nama) < 6:\n",
    "        raise InputInvalidError(\"Nama minimal 6 karakter.\")\n",
    "    if len(alamat) < 10:\n",
    "        raise InputInvalidError(\"Alamat minimal 10 karakter.\")\n",
    "    if kelas not in [\"TI24H\", \"TI24A\", \"TI24G\", \"TI24F\"]:\n",
    "        raise InputInvalidError(\"Kelas tidak valid.\")\n",
    "\n",
    "def tambah_data():\n",
    "    try:\n",
    "        nim = input(\"Masukkan NIM: \")\n",
    "        nama = input(\"Masukkan Nama: \")\n",
    "        alamat = input(\"Masukkan Alamat: \")\n",
    "        kelas = input(\"Masukkan Kelas (TI24H/TI24A/TI24G/TI24F): \")\n",
    "\n",
    "        validasi_data(nim, nama, alamat, kelas)\n",
    "\n",
    "        with open(\"mahasiswa.csv\", mode=\"a\", newline=\"\", encoding=\"utf-8\") as f:\n",
    "            writer = csv.writer(f)\n",
    "            writer.writerow([nim, nama, alamat, kelas])\n",
    "\n",
    "        print(\"Data berhasil disimpan!\\n\")\n",
    "\n",
    "    except InputInvalidError as e:\n",
    "        print(f\"Terjadi kesalahan: {e}\\n\")\n",
    "    except Exception as e:\n",
    "        print(f\"Kesalahan tidak terduga: {e}\\n\")\n",
    "    finally:\n",
    "        print(\"Proses tambah data selesai.\\n\")\n",
    "\n",
    "def tampilkan_data():\n",
    "    try:\n",
    "        with open(\"mahasiswa.csv\", mode=\"r\", encoding=\"utf-8\") as f:\n",
    "            reader = csv.reader(f)\n",
    "            data = list(reader)\n",
    "\n",
    "            if data:\n",
    "                print(\"\\nDaftar Mahasiswa:\")\n",
    "                for row in data:\n",
    "                    if len(row) == 4:\n",
    "                        nim, nama, alamat, kelas = row\n",
    "                        print(f\"NIM: {nim}, Nama: {nama}, Alamat: {alamat}, Kelas: {kelas}\")\n",
    "                    else:\n",
    "                        print(\"Format baris tidak sesuai:\", row)\n",
    "            else:\n",
    "                print(\"Belum ada data mahasiswa.\")\n",
    "    except FileNotFoundError:\n",
    "        print(\"File belum dibuat. Tambahkan data terlebih dahulu.\")\n",
    "    finally:\n",
    "        print(\"Proses tampil data selesai.\\n\")\n",
    "\n",
    "while True:\n",
    "    print(\"=== Menu Data Mahasiswa ===\")\n",
    "    print(\"1. Tambah Data Mahasiswa\")\n",
    "    print(\"2. Tampilkan Data Mahasiswa\")\n",
    "    print(\"3. Keluar\")\n",
    "\n",
    "    pilihan = input(\"Pilih menu (1/2/3): \")\n",
    "\n",
    "    if pilihan == \"1\":\n",
    "        tambah_data()\n",
    "    elif pilihan == \"2\":\n",
    "        tampilkan_data()\n",
    "    elif pilihan == \"3\":\n",
    "        print(\"Terima kasih. Program selesai.\")\n",
    "        break\n",
    "    else:\n",
    "        print(\"Pilihan tidak valid. Coba lagi.\\n\")"
   ]
  },
  {
   "cell_type": "code",
   "execution_count": null,
   "id": "9e7cd13b-fbc2-4d5c-b8f1-9bdf241c0375",
   "metadata": {},
   "outputs": [],
   "source": []
  }
 ],
 "metadata": {
  "kernelspec": {
   "display_name": "Python [conda env:base] *",
   "language": "python",
   "name": "conda-base-py"
  },
  "language_info": {
   "codemirror_mode": {
    "name": "ipython",
    "version": 3
   },
   "file_extension": ".py",
   "mimetype": "text/x-python",
   "name": "python",
   "nbconvert_exporter": "python",
   "pygments_lexer": "ipython3",
   "version": "3.12.7"
  }
 },
 "nbformat": 4,
 "nbformat_minor": 5
}
